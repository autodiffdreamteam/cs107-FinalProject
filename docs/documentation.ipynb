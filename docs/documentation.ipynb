{
 "cells": [
  {
   "cell_type": "markdown",
   "metadata": {},
   "source": [
    "# Introduction\n",
    "\n",
    "## Differentiation \n",
    "Differentiation is one of the most commonly used mathematical operations in computational sciences. Fundamentally, it computes the rate of change of a variable with respect to another. This rate is referred to as the derivative of the first variable with respect to the second. Differentiation generalizes from scalar to vector-valued functions, for which we can compute derivatives with respect to one or more dependent variables. Values of these derivatives serve as critical inputs to many root-finding methods (e.g. Newton's method), optimization algorithms (e.g. gradient descent), and interpolation methods (e.g. quadratic splines). Given the rapid growth in the complexity of modern computational problems, it is imperative to compute these derivatives both quickly and accurately. \n",
    "\n",
    "\n",
    "## Automatic differentiation (AD)\n",
    "Automatic differentiation (abbreviation: AD and also referred to as Algorithmic or Computational Differentiation) is a method to evaluate derivatives of real-valued functions. It is a variant of the classically conceptualized computer-based differentiation methods such as symbolic differentation and finite difference methods but addresses shortcomings encountered in both. In particular, symbolic differentation can compute derivatives to machine precision, but requires a high computational load for complicated functions. Finite difference differentiation, on the other hand, is faster but produces errors in the computed derivatives that are several order of magnitudes higher than machine precision. AD emerges as a solution that addresses both of these shortcomings and hence is gaining popularity in computational scientific applications.\n",
    "\n",
    "\n",
    "## Applications of automatic differentiation\n",
    "AD can be applied to many critical computational problems. Examples include root-finding methods such as Newton's method, optimization schemes such as gradient descent (and its variants, including stochastic gradient descent and Nesterov's accelerated gradient descent), and interpolation methods such as quadratic splines. As modern scientific research uses increasingly large datasets, all these methods rely on fast and accurate computation of derivates. Automatic differentiation serves these requirements and hence is an appropriate choice for calculating the derivatives for these algorithms.\n",
    "\n",
    "\n",
    "## Scope\n",
    "The `DreamDiff` Python package provides an efficient and easy-to-use computational tool for computing the derivatives of scalar and vector-valued functions employing forward mode AD. In addition, `DreamDiff` uses its core AD functionality to implement root-finding, optimization, and interpolation methods, including Newton's method, gradient descent, Nesterov's accelerated gradient descent, and quadratic splines. The `Optimize` class within `DreamOptimize` also enables users to easily visualize these optimization methods by creating `matplotlib` animations. To provide some additional context for the functionality utilized by `Optimize`, an explanation of Newton's method is provided below (see the **Extension** section for a full details on the other methods implemented in this package).\n",
    "\n",
    "\n",
    "## Newton's method\n",
    "Newton's method provides an iterative approach to finding the roots of differentiable functions.\n",
    "\n",
    "In one-dimension, Newton's method performs the following steps:\n",
    "\n",
    "**Step 1**: Given a function $f$, start at a random point $x_0$\n",
    "\n",
    "**Step 2**: Compute $f(x_0)$ and $f'(x_0)$\n",
    "\n",
    "**Step 3**: Set $x_1 = x_0 - \\frac{f(x_0)}{f'(x_0)}$\n",
    "\n",
    "**Step 4**: If $|f(x_1)| < \\epsilon$, where $\\epsilon$ is a small tolerance parameter, then stop. \n",
    "            Otherwise, set $x_0 = x_1$\n",
    "\n",
    "**Step 5**: Repeat steps 2-4."
   ]
  },
  {
   "cell_type": "markdown",
   "metadata": {},
   "source": [
    "# Background\n",
    "\n",
    "## The chain rule\n",
    "\n",
    "Automatic differentitation is built upon the chain rule, which provides a formula to compute the derivative of composite functions. Recall that if we have a composite function\n",
    "\n",
    "$$ f(g(h(x))), $$\n",
    "\n",
    "the chain rule tells us that\n",
    "\n",
    "$$ \\frac{\\partial f}{\\partial x} = \\frac{\\partial f}{\\partial g} \\frac{\\partial g}{\\partial h}\\frac{\\partial h}{\\partial t}. $$\n",
    "\n",
    "In this package, we implement the forward mode of AD, whereby we evaluate the derivative of a composite function from the inside out. Put differently, we differentiate with respect to one independent variable and recursively find the derivative of each sub-expression starting with the innermost function. In general, the forward mode would evaluate the derivative above as follows:\n",
    "\n",
    "$$ \\frac{\\partial f}{\\partial x} = \\frac{\\partial f}{\\partial v_{n-1}} \\frac{\\partial v_{n-1}}{\\partial x} = \\frac{\\partial f}{\\partial v_{n-1}}  \\left( \\frac{\\partial v_{n-1}}{\\partial v_{n-2}}\\frac{\\partial v_{n-2}}{\\partial x} \\right) = \\frac{\\partial f}{\\partial v_{n-1}} \\frac{\\partial v_{n-1}}{\\partial x} = \\frac{\\partial f}{\\partial v_{n-1}}  \\left( \\frac{\\partial v_{n-1}}{\\partial v_{n-2}} \\left( \\frac{\\partial v_{n-2}}{\\partial v_{n-3}} \\frac{\\partial v_{n-3}}{\\partial x} \\right) \\right) = ..., $$\n",
    "\n",
    "where each $ v_i $ is an inner function. If the function we want to differentiate has multiple arguments, as in\n",
    "\n",
    "$$ f(g(t), h(t)), $$\n",
    "\n",
    "then the chain rule extends naturally, giving\n",
    "\n",
    "$$ \\frac{\\partial f}{\\partial x} = \\frac{\\partial f}{\\partial g}\\frac{\\partial g}{\\partial x} + \\frac{\\partial f}{\\partial h}\\frac{\\partial h}{\\partial x}. $$\n",
    "\n",
    "And if we have a vector-valued function with $ x \\in \\mathbb{R}^m $\n",
    "\n",
    "$$ f = f(g(x), h(x)), $$\n",
    "\n",
    "the derivative becomes\n",
    "\n",
    "$$ \\nabla_x f = \\frac{\\partial f}{\\partial g} \\nabla g + \\frac{\\partial f}{\\partial h} \\nabla h. $$\n",
    "\n",
    "Putting this all together, we can use the chain rule to express the derivative of a general vector-valued function $ f=f(y(x)) $ where $ y \\in \\mathbb{R}^n $ and $ x \\in \\mathbb{R}^m $ as\n",
    "\n",
    "$$ \\nabla_x f = \\sum_{i=1}^n \\frac{\\partial f}{\\partial y_i} \\nabla y_i(x). $$\n",
    "\n",
    "\n",
    "## The computational graph\n",
    "\n",
    "Consider the function $ f(x, y) = e^{x^2 + y^2}. $ For illustrative purposes, we can summarize the recursive operations of forward mode AD in a computational graph. \n",
    "\n",
    "Let's say we want to find $ \\partial f / \\partial x. $ Because we are differentiating with respect to $ x, $ we start by calculating seed values as:\n",
    "\n",
    "$$ \\frac{\\partial x}{\\partial x} = 1, $$ and\n",
    "$$ \\frac{\\partial y}{\\partial x} = 0. $$\n",
    "\n",
    "Then the derivative is evaluated as follows:\n",
    "\n",
    "| Trace   | Elementary Operation   | Derivative Operation                     |\n",
    "|---------|------------------------|------------------------------------------|\n",
    "| $v_1$   | $x$                    | $\\dot{v_1}=1$ (seed)                     |\n",
    "| $v_2$   | $v_1^2$                | $\\dot{v_2}=2v_1 \\dot{v_1}$               |\n",
    "| $v_3$   | $y$                    | $\\dot{v_3}=0$ (seed)                     |\n",
    "| $v_4$   | $v_3^2$                | $\\dot{v_4}=2v_3 \\dot{v_3}$               |\n",
    "| $v_5$   | $v_2 + v_4$            | $\\dot{v_5}=\\dot{v_2} + \\dot{v_4}$        |\n",
    "| $f$     | $e^{v_5}$              | $\\partial f/\\partial x=\\dot{v_5}e^{v_5}$ |\n",
    "\n",
    "In essence, forward mode AD does computationally what we did by hand in the table above. In general, it computes the product $\\nabla f \\cdot p,$ where $ p $ is a seed vector computed as we did in the example above. If $ f $ is a vector-valued function, then it computes $ Jp, $ where $ J $ is the Jacobian."
   ]
  },
  {
   "cell_type": "markdown",
   "metadata": {},
   "source": [
    "# How to use\n",
    "\n",
    "`DreamDiff` is installable via PyPI or available for download on GitHub.\n",
    "\n",
    "\n",
    "## Installation via PyPI\n",
    "\n",
    "# NOT DONE YET\n",
    "\n",
    "\n",
    "## Download on GitHub\n",
    "1. Running this application requires the Python language. Please download it from: https://www.python.org/downloads/ depending on the operating system.\n",
    "2. Run the installation process and set up the Python Path correctly on your system so that you can access it from the terminal (Windows command prompt or bash shell in MAC OS).\n",
    "3. Type `python` on your system shell (Windows command prompt or bash shell in MAC OS) to start the Python runtime environment or you can use any of the graphical user interfaces such as Visual Studio, or Python IDLE to start running Python.\n",
    "4. `git clone https://github.com/autodiffdreamteam/cs107-FinalProject.git` and make sure the AutoDiff.py class is in your working directory.\n",
    "5. Create your Python script to run.\n",
    "6. Install the dependencies in `requirements.txt` including `NumPy` and `pytest` (if running testing tasks).\n",
    "7. Run the program. Instructions on how to do this are provided below.\n",
    "\n",
    "\n",
    "## `DreamDiff` Demo\n",
    "After installing `DreamDiff`, you are ready to being utilizing three core classes: `DreamDiff`, which performs forward mode AD on a function and stores its value and derivative, `Function`, which allows you to define more complex functions including trig, inverse trig, hyperbolic, exponential, logarithmic, square root, and logistic functions, and `Optimize`, which provides tools for root-finding, optimization, and interpolation."
   ]
  },
  {
   "cell_type": "code",
   "execution_count": 1,
   "metadata": {},
   "outputs": [],
   "source": [
    "import sys\n",
    "import os\n",
    "\n",
    "module_path = os.path.abspath(os.path.join('..'))\n",
    "if module_path not in sys.path:\n",
    "    sys.path.append(module_path+\"\\\\DreamDiff\")\n",
    "\n",
    "from DreamDiff import DreamDiff\n",
    "from DreamDiff import Function\n",
    "from DreamOptimize import Optimize"
   ]
  },
  {
   "cell_type": "markdown",
   "metadata": {},
   "source": [
    "Creating a scalar function evaluated at the point `2.0` is simple. Note that for the simple scalar case, the derivative is stored in a 1x1 Jacobian matrix."
   ]
  },
  {
   "cell_type": "code",
   "execution_count": 2,
   "metadata": {},
   "outputs": [
    {
     "name": "stdout",
     "output_type": "stream",
     "text": [
      "Values:\n",
      "[2.]\n",
      "Jacobian:\n",
      "[1]\n"
     ]
    }
   ],
   "source": [
    "x = DreamDiff(2.0)\n",
    "print(x)"
   ]
  },
  {
   "cell_type": "markdown",
   "metadata": {},
   "source": [
    "After created a `DreamDiff` object, you can easily increase the complexity of your function using standard mathematical operations like addition, subtraction, multiplication, division, and power. For example, you can find the value of $f(x) = \\frac{1}{2}(x^2 + 5x - 3)$ and its derivative at $x = 2$ by doing:"
   ]
  },
  {
   "cell_type": "code",
   "execution_count": 3,
   "metadata": {},
   "outputs": [
    {
     "name": "stdout",
     "output_type": "stream",
     "text": [
      "Values:\n",
      "[5.5]\n",
      "Jacobian:\n",
      "[4.5]\n"
     ]
    }
   ],
   "source": [
    "f = (x**2 + 5*x - 3) / 2\n",
    "print(f)"
   ]
  },
  {
   "cell_type": "markdown",
   "metadata": {},
   "source": [
    "With the suite of functions provided in `Function`, you can make your functions much more complex. For example, you could define $f(x) = e^{\\sin(x)} - \\cos(\\sqrt{x}) \\sin(\\sqrt{\\cos^2(x) + x^2})$."
   ]
  },
  {
   "cell_type": "code",
   "execution_count": 4,
   "metadata": {},
   "outputs": [
    {
     "name": "stdout",
     "output_type": "stream",
     "text": [
      "Values:\n",
      "[2.3436876]\n",
      "Jacobian:\n",
      "[-0.6395236]\n"
     ]
    }
   ],
   "source": [
    "f = Function.exp(Function.sin(x)) - Function.cos(x**0.5)*Function.sin((Function.cos(x)**2 + x**2)**0.5)\n",
    "print(f)"
   ]
  },
  {
   "cell_type": "markdown",
   "metadata": {},
   "source": [
    "`DreamDiff` also allows you to pass multiple inputs into a function using either manually-entered or default seed vectors. For example, if you wanted to evaluate and differentiate $f(x, y) = 2x + y$ at $x=2, y=3,$ you can create vector inputs as follows:"
   ]
  },
  {
   "cell_type": "code",
   "execution_count": 5,
   "metadata": {},
   "outputs": [
    {
     "name": "stdout",
     "output_type": "stream",
     "text": [
      "Values:\n",
      "[7.]\n",
      "Jacobian:\n",
      "[2 1]\n"
     ]
    }
   ],
   "source": [
    "x = DreamDiff(2.0, [1, 0])\n",
    "y = DreamDiff(3.0, [0, 1])\n",
    "f = 2*x + y\n",
    "print(f)"
   ]
  },
  {
   "cell_type": "markdown",
   "metadata": {},
   "source": [
    "For high-dimensional problems, `DreamDiff` provides the option to easily scale vector inputs with the optional parameter `input_pos`, which accepts a two-element list, the first element of which is the total number of input variables, and the second indicates the index of the variable."
   ]
  },
  {
   "cell_type": "code",
   "execution_count": 6,
   "metadata": {},
   "outputs": [
    {
     "name": "stdout",
     "output_type": "stream",
     "text": [
      "Values:\n",
      "[-4.6]\n",
      "Jacobian:\n",
      "[ 0.2 -3.   1. ]\n"
     ]
    }
   ],
   "source": [
    "x = DreamDiff(2.0, input_pos=[3, 0])\n",
    "y = DreamDiff(3.0, input_pos=[3, 1])\n",
    "z = DreamDiff(4.0, input_pos=[3, 2])\n",
    "f = x/5 - y*3 + z\n",
    "print(f)"
   ]
  },
  {
   "cell_type": "markdown",
   "metadata": {},
   "source": [
    "Finally, `DreamDiff` also supports vector inputs with vector functions, which you can define by passing multiple vector inputs in a list into a new `DreamDiff` object. With two inputs and two functions, we obtain a 2x2 Jacobian matrix."
   ]
  },
  {
   "cell_type": "code",
   "execution_count": 7,
   "metadata": {},
   "outputs": [
    {
     "name": "stdout",
     "output_type": "stream",
     "text": [
      "Values:\n",
      "[[8.]\n",
      " [9.]]\n",
      "Jacobian:\n",
      "[[4. 2.]\n",
      " [0. 6.]]\n"
     ]
    }
   ],
   "source": [
    "x = DreamDiff(2.0, [1, 0])\n",
    "y = DreamDiff(3.0, [0, 1])\n",
    "f1 = x + y*x\n",
    "f2 = y**2\n",
    "f = DreamDiff([f1, f2])\n",
    "print(f)"
   ]
  },
  {
   "cell_type": "markdown",
   "metadata": {},
   "source": [
    "## `Optimize` Demo\n",
    "`Optimize` implements Newton's method for finding roots of scalar functions. In order to achieve this, two private methods in the `DreamDiff` class are used to handle the parsing and evaluate a function entered as a string. After parsing this user-defined string, `DreamDiff` uses its core AD implementation compute derivatives needed for Newton's method.\n",
    "\n",
    "For example, let $f(x) = x^3-3x^2+4$. By passing a string\n",
    "representation of the function to Newton's method along with an initial evaluation point, an epsilon threshold,\n",
    "and the maximum number of iterations for which to run the algorithm, the `newtons_method` function will return a\n",
    "tuple containing the root, a list containing the previous points at which $f$ was evaluated, a list of $f(x),$ \n",
    "values and a list of $f'(x)$ values, or `None` if no root was found."
   ]
  },
  {
   "cell_type": "code",
   "execution_count": 8,
   "metadata": {},
   "outputs": [
    {
     "name": "stdout",
     "output_type": "stream",
     "text": [
      "Found solution after 10 iterations.\n",
      "Solution is: 2.0018221208716365\n"
     ]
    }
   ],
   "source": [
    "f = 'x^3 - 3*x^2 + 4'\n",
    "results = Optimize.newtons_method(f, 0.3, epsilon=0.00001, max_iters=500)"
   ]
  },
  {
   "cell_type": "markdown",
   "metadata": {},
   "source": [
    "`Optimize` also provides a method that creates a `matplotlib` animation showing how the root was located using Newton's\n",
    "method. Running the commented line below will plot the animation, from which we have included a single frame for reference. Please see the **Extension** section below for more details on `Optimize`."
   ]
  },
  {
   "cell_type": "code",
   "execution_count": 9,
   "metadata": {},
   "outputs": [],
   "source": [
    "f = 'x^3 - 3*x^2 + 4'\n",
    "#Optimize.animate_newtons(f, 0.3, epsilon=0.000001, max_iters=500, runtime=0.000001)"
   ]
  },
  {
   "cell_type": "markdown",
   "metadata": {},
   "source": [
    "![newtons_animate.png](newtons_animate.png)"
   ]
  },
  {
   "cell_type": "markdown",
   "metadata": {},
   "source": [
    "# Software Organization\n",
    "\n",
    "\n",
    "## Directory structure\n",
    "Our GitHub directory is organized as follows:\n",
    "\n",
    "```\n",
    "cs107-FinalProject/\n",
    "        README.md\n",
    "        requirements.txt\n",
    "        docs/\n",
    "            documentation.ipynb\n",
    "            milestone1.ipynb\n",
    "            milestone2.ipynb\n",
    "            milestone2_progress.md\n",
    "        DreamDiff/\n",
    "            DreamDiff.py\n",
    "            DreamOptimize.py\n",
    "        tests/\n",
    "            test_DreamDiff.py\n",
    "            test_DreamOptimize.py\n",
    "        demo/\n",
    "            dreamdiffdemo.ipynb\n",
    "```\n",
    "\n",
    "\n",
    "## Python modules\n",
    "See `requirements.txt` for a list of dependencies. These include:\n",
    "- `NumPy` for performing elementary mathematical operations in `AutoDiff`.\n",
    "- `matplotlib` for creating visualizations and animations in `DreamOptimize`.\n",
    "- `pytest` for testing.\n",
    "\n",
    "\n",
    "## Test suite\n",
    "All the software in this package is tested using TravisCI. Tests for `AutoDiff` are found in `test_AutoDiff.py`, and tests for `Optimize` are found in `test_DreamOptimize.py`. They are run automatically and used to generate our Codecov badge as shown in `README.md`.\n",
    "\n",
    "\n",
    "## Package distribution\n",
    "Our package is installable via `PyPI` and available for download from GitHub. See the **How to use** section above for details.\n",
    "\n",
    "\n",
    "# Implementation\n",
    "\n",
    "\n",
    "## Core classes\n",
    "\n",
    "The functionality within this package is built upon two core classes: `DreamDiff` and `Optimize`, which are located in the files `DreamDiff.py` and `DreamOptimize.py`, respectively. `DreamDiff` enables uses to construct scalar or vector-valued functions with scalar or vector inputs upon which to perform forward-mode automatic differentiation (see the **`DreamDiff` Demo** above for details.)\n",
    "\n",
    "The `Optimize` class builds upon the core functionality in `DreamDiff`, providing tools to find the roots of scalar functions using Newton's method, minimize scalar functions using gradient descent and Nesterov's accelerated gradient descent, and finally interpolate using quadratic splines. `Optimize` also provides methods to visualize each of these, and they are elaborated in the **Extension** section below.\n",
    "\n",
    "\n",
    "## Data structures\n",
    "\n",
    "`DreamDiff` and `DreamOptimize` make use of a broad range of data structures, including: \n",
    "- 1-D and 2-D `NumPy` arrays for optimized storage and fast retrieval of data (e.g. derivatives in the Jacobian)\n",
    "- Tuples to conveniently store pairs of values, for example `(f.val, f.der)` \n",
    "- Python lists, for example to store the history of derivatives in the Newton's method and gradient descent algorithms.\n",
    "\n",
    "\n",
    "## External dependencies\n",
    "\n",
    "See `requirements.txt`\n",
    "\n",
    "\n",
    "## Elementary functions\n",
    "\n",
    "In order to allow users to construct and compute the derivatives of complex functions, the `AutoDiffPy` class overloads all the basic mathematical operations, including:\n",
    "```\n",
    "__add__ # addition\n",
    "__radd__ # right-side addition\n",
    "__sub__ # subtraction\n",
    "__rsub__ # right-side subtraction\n",
    "__mul__ # multiplication\n",
    "__rmul__ # right-side multiplication\n",
    "__truediv__ # division\n",
    "__rtruediv__ # right-side division\n",
    "__pow__ # power\n",
    "__rpow__ # right-side power\n",
    "__neg__ # negation\n",
    "__pos__ # + operator\n",
    "__abs__ # absolute value\n",
    "```\n",
    "\n",
    "In addition, the following comparison operators are overloaded:\n",
    "```\n",
    "__eq__ # equal to\n",
    "__ne__ # not equal\n",
    "__lt__ # less than\n",
    "__gt__ # greater than\n",
    "__le__ # less than or equal to\n",
    "__ge__ # greater than or equal to\n",
    "```\n",
    "\n",
    "\n",
    "Finally, the `Function` class within `DreamDiff.py` includes common elementary functions, including:\n",
    "```\n",
    "Function.sin(x)\n",
    "Function.cos(x)\n",
    "Function.tan(x)\n",
    "Function.arcsin(x)\n",
    "Function.arccos(x)\n",
    "Function.arctan(x)\n",
    "Function.sinh(x)\n",
    "Function.cosh(x)\n",
    "Function.tanh(x)\n",
    "Function.sqrt(x)\n",
    "Function.exp(x)\n",
    "Function.log(x)\n",
    "Function.log2(x)\n",
    "Function.log10(x)\n",
    "Function.logistic(x)\n",
    "```"
   ]
  },
  {
   "cell_type": "markdown",
   "metadata": {},
   "source": [
    "# Extension\n",
    "\n",
    "## Root-Finding\n",
    "\n",
    "`DreamDiff` implements Newton's method for finding roots of scalar functions. In order to achieve this, we\n",
    "implemented two private methods in the `DreamDiff` class to handle the parsing and evaluation of a function\n",
    "entered as a string. After parsing this user-defined string, `DreamDiff` uses its core AD implementation compute \n",
    "derivatives needed for Newton's method, which is accessed via the `Optimize` class.\n",
    "\n",
    "See the `Optimize` demo for an example that uses Newton's method for root-finding.\n",
    "\n",
    "\n",
    "## Gradient Descent\n",
    "\n",
    "Beyond root-finding, `DreamDiff` is also equipped with a set of optimization algorithms to find local minima\n",
    "of functions. It includes an implementation of the standard gradient descent method, as well as an optimized \n",
    "version called Nesterov's accelerated gradient descent, which relies on an additional momentum parameter.\n",
    "\n",
    "**Standard gradient descent:**\n",
    "\n",
    "1. Inputs received by the function (expected: function (`f`, str), starting point (`x0`, int, float),  convergence threshold (`epsilon`, int, float), maximum number of iterations to be done (`max_iters`, int), learning rate (`eta`, int, float)\n",
    "2. Store the starting point in a variable `xn`\n",
    "3. Create a `DreamDiff` object \n",
    "4. Parse the input function by calling `_parse_input`\n",
    "5. Create a list `xn_history` to store all the points that the algorithm encounters while moving towards the minimum\n",
    "6. Start looping within the range set by the user (`max_iters`)\n",
    "7. (Within the loop) Add the starting point to `xn_history`\n",
    "8. (Within the loop) Get the value and derivative at `xn`\n",
    "9. (Within the loop) Compute the new value of `xn` using the current value, derivative, and learning rate\n",
    "10. (Within the loop) Check for convergence by computing if the difference between new value of `xn` from Step 9 and current value is less than `epsilon`. If convergence achieved return the value of `xn` and stop\n",
    "11. (Within the loop) If convergence not reached continue the next iteration (Step 6) with new value of `xn`\n",
    "12. If end of the loop is reached without convergence then print out message indicating no solution was found\n",
    "\n",
    "**Nesterov's accelerated gradient descent:**\n",
    "\n",
    "1. Inputs received by the function (expected: function (`f`, str), starting point (`x0`, int, float),  convergence threshold (`epsilon`, int, float), maximum number of iterations to be done (`max_iters`, int), learning rate (`eta`, int, float)\n",
    "2. Store the starting point in variables `xn` and `yn`\n",
    "3. Create a `DreamDiff` object and initialize a momentum parameter `t` at 1.0\n",
    "4. Parse the input function by calling `_parse_input`\n",
    "5. Create a list `xn_history` to store all the points that the algorithm encounters while moving towards the minimum\n",
    "6. Start looping within the range set by the user (`max_iters`)\n",
    "7. (Within the loop) Add the starting point to `xn_history`\n",
    "8. (Within the loop) Get the value and derivative at `xn`\n",
    "9. (Within the loop) Update the momentum parameter `t` using Nesterov's momentum update\n",
    "9. (Within the loop) Compute the new value of `xn` using the current value of `yn`, `eta` and derivative\n",
    "10. (Within the loop) Compute the new value of `yn` using `xn`, `new_xn`, `t` and `new_t`  \n",
    "11. (Within the loop) Check for convergence by computing if the difference between new value of `xn` from Step 9 and current value is less than `epsilon`. If convergence achieved return the value of `xn` and stop\n",
    "12. If end of the loop is reached without convergence then print out message indicating no solution was found\n",
    "\n",
    "To show this in action, let $f(x) = \\tan(\\sin(x)+3).$ A local minimum of this\n",
    "function can be found using standard gradient descent by calling `grad_descent` on it. The additional\n",
    "optional parameter, `eta`, is the learning rate and controls the step size of the algorithm."
   ]
  },
  {
   "cell_type": "code",
   "execution_count": 10,
   "metadata": {},
   "outputs": [
    {
     "name": "stdout",
     "output_type": "stream",
     "text": [
      "Found solution after 15 iterations.\n",
      "Solution is: 4.712385613167822\n"
     ]
    }
   ],
   "source": [
    "f = 'tan(sin(x) + 3)'\n",
    "results = Optimize.grad_descent(f, 4, epsilon=0.00001, max_iters=500, eta=0.1)"
   ]
  },
  {
   "cell_type": "markdown",
   "metadata": {},
   "source": [
    "This minimum could also have been located using `nesterov_grad_descent`, which is often faster than the standard gradient descent method."
   ]
  },
  {
   "cell_type": "code",
   "execution_count": 11,
   "metadata": {},
   "outputs": [
    {
     "name": "stdout",
     "output_type": "stream",
     "text": [
      "Found solution after 11 iterations.\n",
      "Solution is: 4.712385876514812\n"
     ]
    }
   ],
   "source": [
    "f = 'tan(sin(x) + 3)'\n",
    "results = Optimize.nesterov_grad_descent(f, 4, epsilon=0.00001, max_iters=500, eta=0.1)"
   ]
  },
  {
   "cell_type": "markdown",
   "metadata": {},
   "source": [
    "Like Newton's method, the gradient descent methods can also be visualized by calling `animate_grad_desc`, which produces a `matplotlib` animation of the descent algorithm. Note that the additional parameter `method` is used to specify which gradient descent method should be utilized.\n",
    "\n",
    "For example, running the commented line will produce an animation showing this descent using Nesterov's method."
   ]
  },
  {
   "cell_type": "code",
   "execution_count": 12,
   "metadata": {},
   "outputs": [],
   "source": [
    "f = 'tan(sin(x) + 3)'\n",
    "#Optimize.animate_grad_desc(f, 4, epsilon=0.00001, max_iters=500, eta=0.1, runtime=20, method='nesterov')"
   ]
  },
  {
   "cell_type": "markdown",
   "metadata": {},
   "source": [
    "![nesterov_animate.png](nesterov_animate.png)"
   ]
  },
  {
   "cell_type": "markdown",
   "metadata": {},
   "source": [
    "## Quadratic Splines\n",
    "\n",
    "Quadratic Spline Interpolation is a form of \n",
    "interpolation that uses piece-wise quadratic functions to connect \n",
    "points. Quadratic splines have the advantage of being\n",
    "low-order polynomial, and thus are much easier to calculate. \n",
    "They take in `n+1` points on a 2-dimensional plane and create a \n",
    "system of `3n` quadratic equations which can be evaluated to linear \n",
    "equations via derivatives. We use least squares to solve this system, \n",
    "and output `n` piecewise quadratic functions and their coefficients. \n",
    "\n",
    "The first `2n` quadratic equations ensure that `a*x_i^2 + b*x_i + c` crosses \n",
    "the input points before and after it. The next `n-1` equations ensure that\n",
    "the derivative of the the `i`th and `i+1`th quadratic equations match\n",
    "at each connection point from the input to ensure continuity. \n",
    "For this, `DreamDiff` is used to easily calculate \n",
    "these derivatives and values. The last equation is a default equation \n",
    "to ensure squareness of our system and sets `a_0` to 0.\n",
    "\n",
    "For example, `x = [2,3,4,5,6]` and `y = [-3,-8,-11,-14,-18]` can be defined\n",
    "as the input points as follows:"
   ]
  },
  {
   "cell_type": "code",
   "execution_count": 13,
   "metadata": {},
   "outputs": [
    {
     "name": "stdout",
     "output_type": "stream",
     "text": [
      "Quadratic Spline Equations: \n",
      "S_0(x) = 0.0*x^2 + -5.0*x + 7.0 for x ∈ [2, 3]\n",
      "S_1(x) = 0.6667*x^2 + -7.6667*x + 9.0 for x ∈ [3, 4]\n",
      "S_2(x) = 0.3333*x^2 + -6.0*x + 7.6667 for x ∈ [4, 5]\n",
      "S_3(x) = -0.0*x^2 + -4.0*x + 6.0 for x ∈ [5, 6]\n"
     ]
    },
    {
     "data": {
      "image/png": "[encoded data removed]",
      "text/plain": [
       "<Figure size 432x288 with 1 Axes>"
      ]
     },
     "metadata": {
      "needs_background": "light"
     },
     "output_type": "display_data"
    }
   ],
   "source": [
    "values = Optimize.quadratic_spline([2,3,4,5,6], [-3,-8,-11,-14,-18], plot=True)"
   ]
  },
  {
   "cell_type": "markdown",
   "metadata": {},
   "source": [
    "## Impact and inclusivity\n",
    "\n",
    "Our goal for DreamDiff is for it to live well beyond the confines of a computer science course, as all good software should. While we believe it has potential to be used in a wide range of exciting applications, it is important to also consider the broader implications of our software.\n",
    "\n",
    "Our package implements forward-mode automatic differentiation, gradient descent, Nesterov's accelerated gradient descent, Newton’s method and quadratic splines. All these tools have distinct usages, but we hope the convenience of a centralized optimization package provides some extra utility to users working on various optimization tasks in machine learning, minimization and maximization problems, and interpolation using quadratic splines.\n",
    "\n",
    "Further, we hope that the visualization and animation functionality built into our optimization functions serve as a useful educational tool, providing a more intuitive understanding of how these methods work and encouraging math and computer science education more broadly. Perhaps most importantly, we hope that by open-sourcing our software, it will be accessible to as many people as possible. We believe that open-source platforms like GitHub have inherent advantages for inclusivity, providing open access to people around the world who may want to utilize or build upon its core functionality. Nonetheless, it is important to address the more subtle yet persistent inequalities in software development and the broader field of computer science.\n",
    "\n",
    "For example, open source still requires an internet connection, which automatically excludes the 3.6 billion people across the globe (around 47% of the world's population) who do not use the internet, let alone have a computer or access to the educational resources required to learn basic STEM skills. But even in regions of the world where internet access is not an issue, historical gender imbalances have created barriers for women and people of color in computer science. Regardless of your own background, we ask that you keep these inequities in mind and consider how your own work environment can be made more inclusive, particularly for groups that face historical barriers in STEM fields."
   ]
  },
  {
   "cell_type": "markdown",
   "metadata": {},
   "source": [
    "## Future\n",
    "\n",
    "# NOT DONE YET"
   ]
  },
  {
   "cell_type": "markdown",
   "metadata": {},
   "source": [
    "## References\n",
    "1. Hoffmann, P. H. (2016). A hitchhiker’s guide to automatic differentiation. Numerical Algorithms, 72(3), 775-811.\n",
    "2. van Merrienboer, B., Moldovan, D., & Wiltschko, A. (2018). Tangent: Automatic differentiation using source-code transformation for dynamically typed array programming. In Advances in Neural Information Processing Systems (pp. 6256-6265).\n",
    "3. https://harvard-iacs.github.io/2020-CS107/lectures/.\n",
    "4. Griewank, A. and Walther, A., 2008. Evaluating derivatives: principles and techniques of algorithmic differentiation (Vol. 105). Siam.\n",
    "5. Nocedal, J. and Wright, S., 2001. Numerical Optimization, Second Edition. Springer."
   ]
  }
 ],
 "metadata": {
  "kernelspec": {
   "display_name": "Python 3",
   "language": "python",
   "name": "python3"
  },
  "language_info": {
   "codemirror_mode": {
    "name": "ipython",
    "version": 3
   },
   "file_extension": ".py",
   "mimetype": "text/x-python",
   "name": "python",
   "nbconvert_exporter": "python",
   "pygments_lexer": "ipython3",
   "version": "3.8.3"
  }
 },
 "nbformat": 4,
 "nbformat_minor": 4
}
